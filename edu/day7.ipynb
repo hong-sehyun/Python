{
 "cells": [
  {
   "cell_type": "code",
   "execution_count": 4,
   "metadata": {},
   "outputs": [
    {
     "name": "stdout",
     "output_type": "stream",
     "text": [
      "       A      B      C\n",
      "0  False  False  False\n",
      "1   True  False  False\n",
      "2  False   True  False\n",
      "     A    B  C\n",
      "0  1.0  4.0  7\n",
      "1  0.0  5.0  8\n",
      "2  3.0  0.0  9\n",
      "     A    B  C\n",
      "0  1.0  4.0  7\n"
     ]
    }
   ],
   "source": [
    "# 결측치 찾기\n",
    "\n",
    "import pandas as pd\n",
    "import numpy as np\n",
    "\n",
    "# 예제 데이터\n",
    "data = {'A': [1, np.nan, 3], 'B': [4, 5, np.nan], 'C': [7, 8, 9]}\n",
    "df = pd.DataFrame(data)\n",
    "\n",
    "# 결측치 확인\n",
    "print(df.isnull())\n",
    "# 결과:\n",
    "#        A      B      C\n",
    "# 0  False  False  False\n",
    "# 1   True  False  False\n",
    "# 2  False   True  False\n",
    "\n",
    "# 결측치 대체\n",
    "filled_df = df.fillna(0)\n",
    "print(filled_df)\n",
    "# 결과:\n",
    "#      A    B  C\n",
    "# 0  1.0  4.0  7\n",
    "# 1  0.0  5.0  8\n",
    "# 2  3.0  0.0  9\n",
    "\n",
    "# 결측치 제거\n",
    "dropped_df = df.dropna()\n",
    "print(dropped_df)\n",
    "# 결과:\n",
    "#      A    B  C\n",
    "# 0  1.0  4.0  7\n"
   ]
  },
  {
   "attachments": {},
   "cell_type": "markdown",
   "metadata": {},
   "source": [
    "나이 열의 데이터 타입을 int로 변환하자\n",
    "성별 열의 값에서 ‘남’을 ‘M’으로 변경하자\n",
    "이름 열의 값에서 첫 번째 글자만 대문자로 변경하자\n",
    "키 열의 데이터 타입을 float로 변환하자\n",
    "이름 열의 값에서 ‘e’를 ‘E’로 변경하자"
   ]
  },
  {
   "cell_type": "code",
   "execution_count": 6,
   "metadata": {},
   "outputs": [],
   "source": [
    "import pandas as pd\n",
    "\n",
    "# 샘플 데이터프레임 생성\n",
    "data = {'이름': ['John', 'Steve', 'Sarah', 'Ann', 'Mike'],\n",
    "        '나이': ['25', '32', '28', '35', '41'],\n",
    "        '성별': ['남', '남', '여', '여', '남'],\n",
    "        '키': ['175', '180', '163', '155', '190']}\n",
    "df = pd.DataFrame(data)\n",
    "\n",
    "df['나이'] = df['나이'].astype(int)\n"
   ]
  },
  {
   "attachments": {},
   "cell_type": "markdown",
   "metadata": {},
   "source": [
    "'학년' 열을 추가하고, 모든 행에 '3학년'이라는 값으로 채워 넣으세요.\n",
    "'국적' 열을 추가하고, 각 행에 해당하는 사람의 국적을 채워 넣으세요.\n",
    "'성별'이 '여'인 행만 남기고 나머지 행을 삭제하세요.\n",
    "'나이' 열을 기준으로 내림차순으로 행을 정렬하세요.\n",
    "인덱스가 2인 행을 삭제하세요.\n",
    "아래 새로운 행 3개를 추가하세요.\n",
    "    [{'이름': 'Alex', '나이': 22, '성별': '남', '키': 180, '학년': '2학년', '국적': '미국'}, {'이름': 'Emily', '나이': 29, '성별': '여', '키': 165, '학년': '1학년', '국적': '캐나다'}, {'이름': 'Daniel', '나이': 33, '성별': '남', '키': 175, '학년': '3학년', '국적': '호주'}]\n",
    "\n",
    "\n",
    "\n",
    "'이름' 열을 기준으로 오름차순으로 행을 정렬하세요.\n",
    "'키' 열의 값을 cm에서 m로 변환하세요.\n",
    "'성별' 열을 삭제하세요.\n"
   ]
  },
  {
   "cell_type": "code",
   "execution_count": null,
   "metadata": {},
   "outputs": [],
   "source": [
    "import pandas as pd\n",
    "\n",
    "data = {'이름': ['John', 'Steve', 'Sarah', 'Ann', 'Mike'],\n",
    "        '나이': [25, 32, 28, 35, 41],\n",
    "        '성별': ['남', '남', '여', '여', '남'],\n",
    "        '키': [175, 180, 163, 155, 190]}\n",
    "df = pd.DataFrame(data)\n"
   ]
  }
 ],
 "metadata": {
  "kernelspec": {
   "display_name": "base",
   "language": "python",
   "name": "python3"
  },
  "language_info": {
   "codemirror_mode": {
    "name": "ipython",
    "version": 3
   },
   "file_extension": ".py",
   "mimetype": "text/x-python",
   "name": "python",
   "nbconvert_exporter": "python",
   "pygments_lexer": "ipython3",
   "version": "3.10.9"
  },
  "orig_nbformat": 4
 },
 "nbformat": 4,
 "nbformat_minor": 2
}
